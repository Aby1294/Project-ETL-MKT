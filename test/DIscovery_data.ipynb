{
 "cells": [
  {
   "cell_type": "markdown",
   "metadata": {},
   "source": [
    "# Discovery Fuentes Kaggle"
   ]
  },
  {
   "cell_type": "code",
   "execution_count": 3,
   "metadata": {},
   "outputs": [],
   "source": [
    "import pandas as pd\n",
    "df = pd.read_csv('marketing_campaign_dataset.csv')"
   ]
  },
  {
   "cell_type": "code",
   "execution_count": 4,
   "metadata": {},
   "outputs": [
    {
     "data": {
      "text/plain": [
       "array(['Google Ads', 'YouTube', 'Instagram', 'Website', 'Facebook',\n",
       "       'Email'], dtype=object)"
      ]
     },
     "execution_count": 4,
     "metadata": {},
     "output_type": "execute_result"
    }
   ],
   "source": [
    "df.Channel_Used.unique()"
   ]
  },
  {
   "cell_type": "code",
   "execution_count": null,
   "metadata": {},
   "outputs": [],
   "source": [
    "#Obtener numero de columnas\n",
    "df.shape"
   ]
  },
  {
   "cell_type": "markdown",
   "metadata": {},
   "source": [
    "- Chanel_Used : Plataforma de Marketing\n",
    "- Sin Campaign_ID"
   ]
  },
  {
   "cell_type": "code",
   "execution_count": null,
   "metadata": {},
   "outputs": [],
   "source": [
    "#Datos de columnas\n",
    "#df.info\n",
    "#df.info() #traer columnas\n",
    "#df #traer df listado en finas y columnas\n",
    "#df.head() #primeras 5 filas\n",
    "#df.Company.unique() #Ver la diversidad de filas de la columna Company\n",
    "\n",
    "#CREAR NOMBRE DE CAMPAÑA\n",
    "#Examinar datos para elegir un nombre de campaña, se examina datos en comun entre filas para agrupar y cada grupo tenga un nombre unico de\n",
    "#TABLAS RELACIONES\n",
    "df[['Company','Campaign_Type', 'Language', \n",
    "    'Customer_Segment']].drop_duplicates().sort_values(by='Company')\n",
    "#drop_duplicates() borra duplicados\n",
    "\n",
    "#----------\n",
    "#Puedo guardar el DF como una variable y visualizarlo en el Campo \"VAriables\" como si estuviera en un .csv\n",
    "#df_variable=df[['Company','Campaign_Type', 'Target_Audience', 'Language', \n",
    "    #'Customer_Segment']].drop_duplicates().sort_values(by='Company')"
   ]
  },
  {
   "cell_type": "code",
   "execution_count": null,
   "metadata": {},
   "outputs": [],
   "source": [
    "#Examino relacion entre las siguientes dos columnas, con el objetivo de ver relacion entre ellas y quitar una de la TABLA RELACIONES\n",
    "df[['Channel_Used', 'Campaign_Type']].drop_duplicates().sort_values(by='Channel_Used')\n",
    "#Se deduce que se puede tener una campaña en un Channel_Used(Medios) para diferentes Campaing_type(tipos de campaña)"
   ]
  },
  {
   "cell_type": "code",
   "execution_count": null,
   "metadata": {},
   "outputs": [],
   "source": [
    "#Ver rango de tiempo dentro de los datos\n",
    "df.Date.unique()\n",
    "#El rango de tiempo es de todo el 2021"
   ]
  },
  {
   "cell_type": "markdown",
   "metadata": {},
   "source": [
    "-Diferentes Source que tendremos\n",
    "['Google Ads', 'YouTube', 'Instagram', 'Website', 'Facebook', 'Email']"
   ]
  },
  {
   "cell_type": "code",
   "execution_count": null,
   "metadata": {},
   "outputs": [],
   "source": [
    "df.query('Channel_Used == \"YouTube\"').sample(50).to_csv('youtube_sample.csv', index=False)\n",
    "#sample(50) muestra un ejemplo de la cantidad de registros que le coloque\n",
    "#to_csv('youtube_sample.csv', index=False) lo convierto en un archivo .csv\n"
   ]
  },
  {
   "cell_type": "code",
   "execution_count": null,
   "metadata": {},
   "outputs": [],
   "source": [
    "df.Company.unique()"
   ]
  }
 ],
 "metadata": {
  "kernelspec": {
   "display_name": "Python 3",
   "language": "python",
   "name": "python3"
  },
  "language_info": {
   "codemirror_mode": {
    "name": "ipython",
    "version": 3
   },
   "file_extension": ".py",
   "mimetype": "text/x-python",
   "name": "python",
   "nbconvert_exporter": "python",
   "pygments_lexer": "ipython3",
   "version": "3.12.4"
  }
 },
 "nbformat": 4,
 "nbformat_minor": 2
}
